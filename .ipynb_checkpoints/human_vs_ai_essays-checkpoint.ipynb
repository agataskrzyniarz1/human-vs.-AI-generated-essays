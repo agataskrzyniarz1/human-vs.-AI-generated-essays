{
 "cells": [
  {
   "cell_type": "code",
   "execution_count": 35,
   "id": "c9a8a678-a940-4a40-8c49-7da955765552",
   "metadata": {},
   "outputs": [],
   "source": [
    "import kagglehub\n",
    "from kagglehub import KaggleDatasetAdapter, dataset_load\n",
    "import os\n",
    "import numpy as np\n",
    "import pandas as pd\n",
    "import matplotlib.pyplot as plt\n",
    "import seaborn as sns\n",
    "import re\n",
    "from sklearn.feature_extraction.text import TfidfVectorizer\n",
    "from sklearn.model_selection import train_test_split, cross_val_score\n",
    "from sklearn.svm import LinearSVC\n",
    "from sklearn.metrics import classification_report, accuracy_score, confusion_matrix\n",
    "from sklearn.linear_model import LogisticRegression"
   ]
  },
  {
   "cell_type": "code",
   "execution_count": 36,
   "id": "8c90de1a-80f1-4bb6-a0ad-0e8ec2429a71",
   "metadata": {},
   "outputs": [
    {
     "name": "stdout",
     "output_type": "stream",
     "text": [
      "Path to dataset files: /home/agata/.cache/kagglehub/datasets/navjotkaushal/human-vs-ai-generated-essays/versions/1\n",
      "Name of the .csv file: ['balanced_ai_human_prompts.csv']\n"
     ]
    }
   ],
   "source": [
    "path = kagglehub.dataset_download(\"navjotkaushal/human-vs-ai-generated-essays\")\n",
    "print(\"Path to dataset files:\", path)\n",
    "print(\"Name of the .csv file:\", os.listdir(path))"
   ]
  },
  {
   "cell_type": "code",
   "execution_count": 37,
   "id": "58eab7d0-f28c-4490-a496-f35012b7edae",
   "metadata": {},
   "outputs": [],
   "source": [
    "file_path = \"balanced_ai_human_prompts.csv\""
   ]
  },
  {
   "cell_type": "code",
   "execution_count": 38,
   "id": "b5f9ef57-500d-442a-a15b-d28acd400344",
   "metadata": {},
   "outputs": [],
   "source": [
    "df = dataset_load(\n",
    "    KaggleDatasetAdapter.PANDAS,\n",
    "    \"navjotkaushal/human-vs-ai-generated-essays\",\n",
    "    file_path\n",
    ")"
   ]
  },
  {
   "cell_type": "code",
   "execution_count": 39,
   "id": "ac5e3a6d-eec8-4b5c-b2c7-5b1a81973033",
   "metadata": {},
   "outputs": [
    {
     "name": "stdout",
     "output_type": "stream",
     "text": [
      "Index(['text', 'generated'], dtype='object')\n"
     ]
    }
   ],
   "source": [
    "print(df.columns)"
   ]
  },
  {
   "cell_type": "code",
   "execution_count": 40,
   "id": "5aaedfec-7c47-4f36-8ba4-80e91653772d",
   "metadata": {},
   "outputs": [
    {
     "name": "stdout",
     "output_type": "stream",
     "text": [
      "                                                text  generated\n",
      "0  Machine learning, a subset of artificial intel...          1\n",
      "1  A decision tree, a prominent machine learning ...          1\n",
      "2  Education, a cornerstone of societal progress,...          1\n",
      "3  Computers, the backbone of modern technology, ...          1\n",
      "4  Chess, a timeless game of strategy and intelle...          1\n"
     ]
    }
   ],
   "source": [
    "print(df.head())"
   ]
  },
  {
   "cell_type": "code",
   "execution_count": 41,
   "id": "e0b7c93b-fc71-42fe-8965-9fd9454b0db7",
   "metadata": {},
   "outputs": [
    {
     "data": {
      "text/plain": [
       "generated\n",
       "1    1375\n",
       "0    1375\n",
       "Name: count, dtype: int64"
      ]
     },
     "execution_count": 41,
     "metadata": {},
     "output_type": "execute_result"
    }
   ],
   "source": [
    "df[\"generated\"].value_counts()"
   ]
  },
  {
   "cell_type": "markdown",
   "id": "3c723ad5-c2ae-4a40-8aa3-9f0f53c44255",
   "metadata": {},
   "source": [
    "### Data Preprocessing"
   ]
  },
  {
   "cell_type": "code",
   "execution_count": 42,
   "id": "41a3cf7e-20f7-425b-bde8-1fb9226ecc0d",
   "metadata": {},
   "outputs": [
    {
     "name": "stdout",
     "output_type": "stream",
     "text": [
      "Empty DataFrame\n",
      "Columns: [text, generated]\n",
      "Index: []\n"
     ]
    }
   ],
   "source": [
    "# Checking if there are any tags\n",
    "mask = df[\"text\"].str.contains(r'(?:<[^>]+>|\\[.*?\\]|\\{.*?\\})', regex=True)\n",
    "print(df[mask].head())\n"
   ]
  },
  {
   "cell_type": "code",
   "execution_count": 43,
   "id": "f0438932-e72d-4dd0-b969-eeb7cc58267f",
   "metadata": {},
   "outputs": [
    {
     "name": "stdout",
     "output_type": "stream",
     "text": [
      "Machine learning, a subset of artificial intelligence, has rapidly emerged as a transformative force, revolutionizing industries and redefining the possibilities of technology. At its core, machine learning enables computers to learn from data and make informed decisions without explicit programming, with applications ranging from image recognition and language processing to autonomous systems. As machine learning continues to advance, it brings both opportunities and challenges, with issues of bias, transparency, and privacy demanding careful consideration. The impact of machine learning is profound, shaping a future where intelligent systems contribute to efficiency, innovation, and a more interconnected world.\n"
     ]
    }
   ],
   "source": [
    "print(df[\"text\"][0])"
   ]
  },
  {
   "cell_type": "code",
   "execution_count": 44,
   "id": "6f2d58a5-8d4f-451f-a751-1fbc5ef8926d",
   "metadata": {},
   "outputs": [
    {
     "name": "stdout",
     "output_type": "stream",
     "text": [
      "machine learning a subset of artificial intelligence has rapidly emerged as a transformative force revolutionizing industries and redefining the possibilities of technology at its core machine learning enables computers to learn from data and make informed decisions without explicit programming with applications ranging from image recognition and language processing to autonomous systems as machine learning continues to advance it brings both opportunities and challenges with issues of bias transparency and privacy demanding careful consideration the impact of machine learning is profound shaping a future where intelligent systems contribute to efficiency innovation and a more interconnected world\n"
     ]
    }
   ],
   "source": [
    "# Preprocessing\n",
    "def preprocess_text(text):\n",
    "    text = str(text).lower()                        \n",
    "    text = re.sub(r\"http\\S+|www\\S+\", \"\", text)       \n",
    "    text = re.sub(r\"[^a-z\\s]\", \"\", text)            \n",
    "    text = re.sub(r\"\\s+\", \" \", text).strip()         \n",
    "    words = text.split()\n",
    "    return \" \".join(words)\n",
    "    \n",
    "    return text\n",
    "\n",
    "# Applying preprocessing\n",
    "df[\"clean_text\"] = df[\"text\"].apply(preprocess_text)\n",
    "\n",
    "print(df[\"clean_text\"][0])"
   ]
  },
  {
   "cell_type": "markdown",
   "id": "d5067f6b-8004-4dd7-92d7-7b0f4c52c2ea",
   "metadata": {},
   "source": [
    "### TF-IDF Vectorizer"
   ]
  },
  {
   "cell_type": "code",
   "execution_count": 45,
   "id": "4e81b6e9-a8be-472b-823d-867b209e4698",
   "metadata": {},
   "outputs": [
    {
     "name": "stdout",
     "output_type": "stream",
     "text": [
      "TF-IDF matrix shape: (2750, 50000)\n",
      "Sample features: ['aa' 'abe to' 'abide' 'abide by' 'abilities' 'ability' 'ability to'\n",
      " 'able' 'able for' 'able to' 'aboliished' 'abolish' 'abolish electoral'\n",
      " 'abolish it' 'abolish the' 'abolish thee' 'abolish this' 'abolished'\n",
      " 'abolished and' 'abolished as' 'abolished because' 'abolished due'\n",
      " 'abolished for' 'abolished in' 'abolished is' 'abolished it'\n",
      " 'abolished the' 'abolished while' 'abolishes' 'abolishing'\n",
      " 'abolishing it' 'abolishing the' 'abolishment' 'abolishment of' 'abouit'\n",
      " 'about' 'about all' 'about an' 'about and' 'about artificial'\n",
      " 'about astrophysics' 'about autonomous' 'about because' 'about being'\n",
      " 'about blockchain' 'about but' 'about buying' 'about car' 'about carfree'\n",
      " 'about cars']\n"
     ]
    }
   ],
   "source": [
    "# Vectorizing words\n",
    "vectorizer = TfidfVectorizer(\n",
    "    token_pattern=r'(?u)\\b[a-z]{2,}\\b',  # only words with 2 letters minimum\n",
    "    ngram_range=(1, 2),\n",
    "    max_features=50000,\n",
    ")\n",
    "X_tfidf = vectorizer.fit_transform(df[\"clean_text\"])\n",
    "\n",
    "print(\"TF-IDF matrix shape:\", X_tfidf.shape)\n",
    "print(\"Sample features:\", vectorizer.get_feature_names_out()[:50])\n"
   ]
  },
  {
   "cell_type": "markdown",
   "id": "8aeb01f6-78bb-4ffd-9628-8b3b703d95ce",
   "metadata": {},
   "source": [
    "### Data Split"
   ]
  },
  {
   "cell_type": "code",
   "execution_count": 46,
   "id": "d39aacdc-86c4-495b-8d8f-3c03bb69a944",
   "metadata": {},
   "outputs": [
    {
     "name": "stdout",
     "output_type": "stream",
     "text": [
      "Train shape: (2200, 50000)\n",
      "Test shape: (550, 50000)\n"
     ]
    }
   ],
   "source": [
    "# Data split into train/test\n",
    "X = X_tfidf\n",
    "y = df[\"generated\"]\n",
    "\n",
    "X_train, X_test, y_train, y_test = train_test_split(\n",
    "    X, y, test_size=0.2, random_state=42, stratify=y\n",
    ")\n",
    "\n",
    "print(\"Train shape:\", X_train.shape)\n",
    "print(\"Test shape:\", X_test.shape)"
   ]
  },
  {
   "cell_type": "markdown",
   "id": "c44382d5-21d7-449b-a9ce-3c4ad289215c",
   "metadata": {},
   "source": [
    "### Logistic Regression"
   ]
  },
  {
   "cell_type": "code",
   "execution_count": 49,
   "id": "92f2e5f3-32d1-4278-857d-d6f47e95bd4e",
   "metadata": {},
   "outputs": [
    {
     "name": "stdout",
     "output_type": "stream",
     "text": [
      "\n",
      "Accuracy (train): 0.9972727272727273\n",
      "Accuracy (test): 0.9945454545454545\n",
      "\n",
      "Classification report (test):\n",
      "               precision    recall  f1-score   support\n",
      "\n",
      "           0       0.99      1.00      0.99       275\n",
      "           1       1.00      0.99      0.99       275\n",
      "\n",
      "    accuracy                           0.99       550\n",
      "   macro avg       0.99      0.99      0.99       550\n",
      "weighted avg       0.99      0.99      0.99       550\n",
      "\n"
     ]
    }
   ],
   "source": [
    "# Training Logistic Regression\n",
    "lg_clf = LogisticRegression()\n",
    "lg_clf.fit(X_train, y_train)\n",
    "\n",
    "# Prediction and evaluation\n",
    "y_pred_train = lg_clf.predict(X_train)\n",
    "y_pred_test = lg_clf.predict(X_test)\n",
    "\n",
    "print(\"\\nAccuracy (train):\", accuracy_score(y_train, y_pred_train))\n",
    "print(\"Accuracy (test):\", accuracy_score(y_test, y_pred_test))\n",
    "print(\"\\nClassification report (test):\\n\", classification_report(y_test, y_pred_test))"
   ]
  },
  {
   "cell_type": "code",
   "execution_count": 52,
   "id": "7900d149-6e66-412e-87d0-afc9a2e52186",
   "metadata": {},
   "outputs": [
    {
     "name": "stdout",
     "output_type": "stream",
     "text": [
      "Cross-validation accuracies: [0.88363636 0.99272727 0.99636364 0.99818182 0.99818182]\n",
      "Mean CV accuracy: 0.9738181818181818\n"
     ]
    }
   ],
   "source": [
    "# Cross-validation\n",
    "scores = cross_val_score(lg_clf, X, y, cv=5, scoring='accuracy')\n",
    "print(\"Cross-validation accuracies:\", scores)\n",
    "print(\"Mean CV accuracy:\", scores.mean())"
   ]
  },
  {
   "cell_type": "code",
   "execution_count": 57,
   "id": "e4adbc7d-356f-412f-bb9f-46d2ff2ed359",
   "metadata": {},
   "outputs": [
    {
     "data": {
      "image/png": "[encoded data removed]",
      "text/plain": [
       "<Figure size 500x400 with 2 Axes>"
      ]
     },
     "metadata": {},
     "output_type": "display_data"
    }
   ],
   "source": [
    "# Confusion Matrix\n",
    "cm = confusion_matrix(y_test, y_pred_test, labels=lg_clf.classes_)\n",
    "plt.figure(figsize=(5,4))\n",
    "sns.heatmap(cm, annot=True, fmt=\"d\", xticklabels=lg_clf.classes_, yticklabels=lg_clf.classes_, cmap=\"Blues\")\n",
    "plt.xlabel(\"Predicted\")\n",
    "plt.ylabel(\"True\")\n",
    "plt.title(\"Logistic Regression Confusion Matrix (Test)\")\n",
    "plt.show()"
   ]
  },
  {
   "cell_type": "markdown",
   "id": "9cb0ea02-9544-4784-8709-3283217dfc8a",
   "metadata": {},
   "source": [
    "### Support Vector Machine"
   ]
  },
  {
   "cell_type": "code",
   "execution_count": 58,
   "id": "8217e921-02cb-4fc9-8759-79c4bb214c62",
   "metadata": {},
   "outputs": [
    {
     "name": "stdout",
     "output_type": "stream",
     "text": [
      "\n",
      "Accuracy (train): 1.0\n",
      "Accuracy (test): 0.9981818181818182\n",
      "\n",
      "Classification report (test):\n",
      "               precision    recall  f1-score   support\n",
      "\n",
      "           0       1.00      1.00      1.00       275\n",
      "           1       1.00      1.00      1.00       275\n",
      "\n",
      "    accuracy                           1.00       550\n",
      "   macro avg       1.00      1.00      1.00       550\n",
      "weighted avg       1.00      1.00      1.00       550\n",
      "\n"
     ]
    }
   ],
   "source": [
    "# Training SVM\n",
    "svm_clf = LinearSVC(random_state=42, max_iter=5000)\n",
    "svm_clf.fit(X_train, y_train)\n",
    "\n",
    "# Prediction and evaluation\n",
    "y_pred_train = svm_clf.predict(X_train)\n",
    "y_pred_test = svm_clf.predict(X_test)\n",
    "\n",
    "print(\"\\nAccuracy (train):\", accuracy_score(y_train, y_pred_train))\n",
    "print(\"Accuracy (test):\", accuracy_score(y_test, y_pred_test))\n",
    "print(\"\\nClassification report (test):\\n\", classification_report(y_test, y_pred_test))\n"
   ]
  },
  {
   "cell_type": "code",
   "execution_count": 59,
   "id": "139c31d4-a360-4da0-b36f-74513326cdc6",
   "metadata": {},
   "outputs": [
    {
     "name": "stdout",
     "output_type": "stream",
     "text": [
      "Cross-validation accuracies: [0.84545455 1.         1.         0.99818182 0.99818182]\n",
      "Mean CV accuracy: 0.9683636363636363\n"
     ]
    }
   ],
   "source": [
    "# Cross-validation\n",
    "scores = cross_val_score(svm_clf, X, y, cv=5, scoring='accuracy')\n",
    "print(\"Cross-validation accuracies:\", scores)\n",
    "print(\"Mean CV accuracy:\", scores.mean())"
   ]
  },
  {
   "cell_type": "code",
   "execution_count": 60,
   "id": "d5852d61-96db-413c-b2c5-619dedc37295",
   "metadata": {},
   "outputs": [
    {
     "data": {
      "image/png": "[encoded data removed]",
      "text/plain": [
       "<Figure size 500x400 with 2 Axes>"
      ]
     },
     "metadata": {},
     "output_type": "display_data"
    }
   ],
   "source": [
    "# Confusion Matrix\n",
    "cm = confusion_matrix(y_test, y_pred_test, labels=svm_clf.classes_)\n",
    "plt.figure(figsize=(5,4))\n",
    "sns.heatmap(cm, annot=True, fmt=\"d\", xticklabels=svm_clf.classes_, yticklabels=svm_clf.classes_, cmap=\"Blues\")\n",
    "plt.xlabel(\"Predicted\")\n",
    "plt.ylabel(\"True\")\n",
    "plt.title(\"SVM Confusion Matrix (Test)\")\n",
    "plt.show()"
   ]
  },
  {
   "cell_type": "markdown",
   "id": "b9ccca93-64a4-4c64-bb2f-e71a429fed63",
   "metadata": {},
   "source": [
    "### Accuracy Comparison of Models"
   ]
  },
  {
   "cell_type": "code",
   "execution_count": 56,
   "id": "5537773e-f9b3-49e3-a03c-50e5ed8b2cf1",
   "metadata": {},
   "outputs": [
    {
     "data": {
      "image/png": "[encoded data removed]",
      "text/plain": [
       "<Figure size 700x500 with 1 Axes>"
      ]
     },
     "metadata": {},
     "output_type": "display_data"
    }
   ],
   "source": [
    "# Test accuracy values\n",
    "test_accuracies = [\n",
    "    accuracy_score(y_test, lg_clf.predict(X_test)),\n",
    "    accuracy_score(y_test, svm_clf.predict(X_test))\n",
    "]\n",
    "\n",
    "models = ['Logistic Regression', 'SVM']\n",
    "\n",
    "# Plot\n",
    "x = np.arange(len(models))  # positions\n",
    "width = 0.5  # bar width\n",
    "\n",
    "fig, ax = plt.subplots(figsize=(7,5))\n",
    "bars = ax.bar(x, test_accuracies, width, color=['skyblue', 'salmon'])\n",
    "\n",
    "# Labels and title\n",
    "ax.set_ylabel('Test Accuracy')\n",
    "ax.set_title('Accuracy Comparison of Models (Test)')\n",
    "ax.set_xticks(x)\n",
    "ax.set_xticklabels(models)\n",
    "ax.set_ylim(0, 1.05)\n",
    "\n",
    "# Add accuracy values on top of bars\n",
    "for bar in bars:\n",
    "    height = bar.get_height()\n",
    "    ax.annotate(f'{height:.3f}',\n",
    "                xy=(bar.get_x() + bar.get_width() / 2, height),\n",
    "                xytext=(0,3),\n",
    "                textcoords=\"offset points\",\n",
    "                ha='center', va='bottom')\n",
    "\n",
    "plt.show()\n"
   ]
  },
  {
   "cell_type": "markdown",
   "id": "8cb5fd64-3ee8-4acc-8a03-3c79cb37ba34",
   "metadata": {},
   "source": [
    "### Top features"
   ]
  },
  {
   "cell_type": "code",
   "execution_count": 21,
   "id": "1263ef37-86d3-45cb-a886-af30ec5e3d72",
   "metadata": {},
   "outputs": [
    {
     "name": "stdout",
     "output_type": "stream",
     "text": [
      "Top 20 features indicative of AI essays:\n",
      "            feature      coef\n",
      "41695   the context  0.519545\n",
      "10428    context of  0.519545\n",
      "10427       context  0.518858\n",
      "21532           its  0.379924\n",
      "9101         coffee  0.366274\n",
      "26201       natures  0.362556\n",
      "8261          chess  0.337929\n",
      "8019     challenges  0.322185\n",
      "40875    technology  0.303788\n",
      "14496        energy  0.297355\n",
      "15452   exploration  0.276037\n",
      "40963     testament  0.272837\n",
      "40964  testament to  0.272837\n",
      "32021   performance  0.272562\n",
      "40539   sustainable  0.264970\n",
      "14824       ethical  0.263225\n",
      "16344       for its  0.256013\n",
      "40475       sunsets  0.245992\n",
      "37569       science  0.243012\n",
      "14788         essay  0.242850\n",
      "\n",
      "Top 20 features indicative of human essays:\n",
      "         feature      coef\n",
      "44281         to -1.037352\n",
      "6893         car -0.874402\n",
      "45006       tohe -0.833403\n",
      "41484        the -0.801361\n",
      "7301        cars -0.799918\n",
      "42687       thee -0.760918\n",
      "635          ahe -0.739927\n",
      "31539     people -0.735875\n",
      "21500       ithe -0.720948\n",
      "9142     college -0.688863\n",
      "14153  electoral -0.641552\n",
      "4000          be -0.635641\n",
      "20599         is -0.630002\n",
      "49661        you -0.589119\n",
      "41073       that -0.571251\n",
      "3598        athe -0.522468\n",
      "19550        ihe -0.510974\n",
      "2686         are -0.504140\n",
      "49307      would -0.500855\n",
      "18296       have -0.498064\n"
     ]
    }
   ],
   "source": [
    "# Extracting top features of each class\n",
    "\n",
    "# Coefficients for classes (LinearSVC has shape: [n_classes-1, n_features])\n",
    "coef = svm_clf.coef_.toarray() if hasattr(svm_clf.coef_, \"toarray\") else svm_clf.coef_\n",
    "\n",
    "# Feature names from TF-IDF\n",
    "features = vectorizer.get_feature_names_out()\n",
    "\n",
    "# If binary classification (0=human, 1=AI)\n",
    "# Positive coefficients → features typical for AI\n",
    "coef_ai = coef[0]  \n",
    "\n",
    "# Create a DataFrame for easier analysis\n",
    "df_coef = pd.DataFrame({\"feature\": features, \"coef\": coef_ai})\n",
    "\n",
    "# Sort features by influence\n",
    "top_ai = df_coef.sort_values(by=\"coef\", ascending=False).head(20)\n",
    "top_human = df_coef.sort_values(by=\"coef\").head(20)\n",
    "\n",
    "# Print results\n",
    "print(\"Top 20 features indicative of AI essays:\")\n",
    "print(top_ai)\n",
    "\n",
    "print(\"\\nTop 20 features indicative of human essays:\")\n",
    "print(top_human)\n"
   ]
  },
  {
   "cell_type": "markdown",
   "id": "ddef74a7-55f4-48bb-bb02-72960a1635ab",
   "metadata": {},
   "source": [
    "### User Input Prediction"
   ]
  },
  {
   "cell_type": "code",
   "execution_count": 54,
   "id": "c910f923-7076-440b-971d-f6e5101aac4e",
   "metadata": {},
   "outputs": [
    {
     "name": "stdin",
     "output_type": "stream",
     "text": [
      "Enter an essay text to classify (human or AI):\n",
      " Recently, there have been plenty of discussions and debates about punishments for young offenders. More and more people are demanding some changes in the law. They claim that the punishments for underage criminals should be harsher. I don’t agree with this idea, because I consider that the law in our country is correct and it doesn’t need to be modified.  Primarily, the proponents of the aggravation of punishments believe it will be safer if the fines are more severe. However, isolating young felons is just a short-term solution. In fact, putting them into prisons or juvenile detention centers for too long would have a negative impact on their future lives. Young people should be more integrated to society instead. Otherwise, they would not be taught how to live and behave among people. If they spent a big part of their childhood among other young criminals, they may become even more aggressive and dangerous as adults.  Additionally, the aggravation of punishments equals to higher costs for the criminal’s financial support. The society has to pay for the maintenance of jails etc., where prisoners usually don’t work. Nevertheless, I think we should vote this money for education for young perpetrators. It would bring benefits in the future, because the young criminals would be taught that only hard work pays and illegal acts only do harm to the order in our country.\\  In spite of these arguments, some people ask why should young people answer to different laws than elders. For me, it is not a social injustice, but a necessity to maintain the order in our country. The reason why young people have lighter penalties is because the chance of the rehabilitation is bigger and the effect will last longer.  Many people may agree or disagree with the idea of changing the law. However, we should remember that amendments of the law should be processed very seriously. Without compatibile law there is no order.\n"
     ]
    },
    {
     "name": "stdout",
     "output_type": "stream",
     "text": [
      "\n",
      "Predicted class: human\n",
      "Confidence: 65.72%\n"
     ]
    }
   ],
   "source": [
    "def classify_text(text, vectorizer, model):\n",
    "    # Preprocessing\n",
    "    def preprocess_text_single(text):\n",
    "        text = str(text).lower()                        \n",
    "        text = re.sub(r\"http\\S+|www\\S+\", \"\", text)       \n",
    "        text = re.sub(r\"[^a-z\\s]\", \"\", text)            \n",
    "        text = re.sub(r\"\\s+\", \" \", text).strip()         \n",
    "        words = text.split()\n",
    "        return \" \".join(words)\n",
    "\n",
    "    clean_text = preprocess_text_single(text)\n",
    "    \n",
    "    # TF-IDF transform\n",
    "    X_input = vectorizer.transform([clean_text])\n",
    "    \n",
    "    # Prediction\n",
    "    pred_class = model.predict(X_input)[0]\n",
    "    \n",
    "    # Map 0/1 to human/AI-generated\n",
    "    class_label = \"human\" if pred_class == 0 else \"AI-generated\"\n",
    "    \n",
    "    # Confidence\n",
    "    decision = model.decision_function(X_input)[0]\n",
    "    confidence = 1 / (1 + np.exp(-abs(decision))) * 100\n",
    "    \n",
    "    return class_label, confidence\n",
    "\n",
    "# User input\n",
    "user_text = input(\"Enter an essay text to classify (human or AI):\\n\")\n",
    "\n",
    "class_label, confidence = classify_text(user_text, vectorizer, svm_clf)\n",
    "\n",
    "print(f\"\\nPredicted class: {class_label}\")\n",
    "print(f\"Confidence: {confidence:.2f}%\")\n"
   ]
  }
 ],
 "metadata": {
  "kernelspec": {
   "display_name": "Python 3 (ipykernel)",
   "language": "python",
   "name": "python3"
  },
  "language_info": {
   "codemirror_mode": {
    "name": "ipython",
    "version": 3
   },
   "file_extension": ".py",
   "mimetype": "text/x-python",
   "name": "python",
   "nbconvert_exporter": "python",
   "pygments_lexer": "ipython3",
   "version": "3.11.4"
  }
 },
 "nbformat": 4,
 "nbformat_minor": 5
}
